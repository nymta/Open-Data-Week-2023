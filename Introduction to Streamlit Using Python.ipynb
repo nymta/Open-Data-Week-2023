{
 "cells": [
  {
   "attachments": {},
   "cell_type": "markdown",
   "id": "24b9b5b4",
   "metadata": {},
   "source": [
    "![](src/images/mta_logo.png)\n",
    "\n",
    "# Introduction to Streamlit Using Python\n",
    "\n",
    "## Introduction\n",
    "\n",
    "***\n",
    "<div class=\"alert alert-block alert-info\">\n",
    "<b>Welcome!</b> \n",
    "\n",
    "In this course, we use Python to explore bus speeds and performance datasets from the <a href=\"https://new.mta.info/open-data\">MTA's open data portal</a>. This will illustrate basic data-analysis tools with <a href=\"https://pandas.pydata.org/docs/user_guide/index.html\">Python's pandas library</a>, data-visualization tools with Python's <a href=\"https://altair-viz.github.io/\">Altair library</a>, and the website-creating capabilities of Python's <a href=\"https://streamlit.io/\">streamlit library</a>. \n",
    "\n",
    "Python is the programming language we use to prepare data for and create <a href=\"metrics.mta.info\">metrics.mta.info</a>, and what you'll use in this demonstration. Upon completion of the course, you will be able to use Python to process and analyze datasets, and create basic webpages visualizing those datases.\n",
    "\n",
    "This document is a [Juypter notebook](https://docs.jupyter.org/en/latest/), integrating Python code and text (markdown) in different 'chunks.' You can open the document in VSCode, and hit the button to the left of code chunks to run them.\n",
    "\n",
    "These instructions assume you have folllowed the setup steps in the <a href=\"https://github.com/nymta/Open-Data-Week-2023\">GitHub README</a>. If you have not, please complete these steps before continuing.\n",
    "\n",
    "</div>\n",
    "\n",
    "*All rights reserved for course materials below*"
   ]
  },
  {
   "attachments": {},
   "cell_type": "markdown",
   "id": "54453153",
   "metadata": {},
   "source": [
    "### A little bit about our team\n",
    "\n",
    "<p></p>\n",
    "<div>\n",
    "<p style=\"float: left; padding-right: 10px;\"><img src=\"https://media.licdn.com/dms/image/C5603AQGUx9gG7_f9DQ/profile-displayphoto-shrink_800_800/0/1656627094442?e=1681344000&v=beta&t=NYXGQPzgxug4h2tyuJIxp7H42j_4xbNvFB_v4GMrxbc\" height=\"100px\" width=\"100px\"></p>\n",
    "<p> <b>Rahnuma Tarannum</b> <br>\n",
    "\n",
    "Rahnuma is currently pursuing a Masters degree in Applied Urban Science and Informatics from New York University. In January of last year, Rahnuma started an internship as a Data Research Associate at MTA in the Data and Analytics Team. Working alongside colleagues from the Data and Analytic Reporting Team, Rahnuma has successfully developed a new and improved public dashboard (metrics.mta.info) to replace the old one on the MTA website. Presently, Rahnuma is involved in writing queries that will facilitate the updating of the open data portal and the addition of route-level information to the metrics website.\n",
    "\n",
    "</p>\n",
    "</div>"
   ]
  },
  {
   "attachments": {},
   "cell_type": "markdown",
   "id": "529b177e",
   "metadata": {},
   "source": [
    "<p></p>\n",
    "<div>\n",
    "<p style=\"float: left; padding-right: 10px;\"><img src=\"https://media.licdn.com/dms/image/C4E03AQGDEk3KoYVNjw/profile-displayphoto-shrink_800_800/0/1633185999002?e=1680739200&v=beta&t=Po5ZYz5JKkJD2DceUDr_80Fe-iKl9F8dI-VNnFrXVdY\" height=\"100px\" width=\"100px\"></p>\n",
    "<p> <b>Dan Powers</b> <br>\n",
    "\n",
    "Dan works as a Senior Data Scientist in the MTA's Data & Analytics Team, joining the agency in October, 2023. As part of the reporting section of the D&A Team, Dan helps develop and maintain internal and external data tools built on Python, including MTA's external metrics website. Dan's work experiences prior to the joining the MTA include policy and data analysis work for the cities of Takoma Park and Boston, and the US Government Accountability Office.\n",
    "\n",
    "</p>\n",
    "</div>"
   ]
  },
  {
   "attachments": {},
   "cell_type": "markdown",
   "id": "43324e9b",
   "metadata": {},
   "source": [
    "### Outline\n",
    "\n",
    "- [**Section 1**](#Section-1): Setup [5 min]\n",
    "- [**Section 2**](#Section-2): Intro to Streamlit [15 mins]\n",
    "  - Streamlit background\n",
    "  - Running streamlit pages \n",
    "  - How to add webpage elements in streamlit\n",
    "- [**Section 3**](#Section-4) [20 mins] \n",
    "  - Reading in data\n",
    "  - Working with datetimes\n",
    "  - Renaming columns\n",
    "  - Column selection\n",
    "  - Changing data types\n",
    "  - Changing column types\n",
    "  - Grouping data\n",
    "- [**Section 4**](#Section-5): Streamlit inputs + page design, and Altair visualization [20 mins]\n",
    "  - Background\n",
    "  - Streamlit inputs\n",
    "  - Filtering datasets\n",
    "  - Organizing streamlit pages\n",
    "  - Visualizing data in streamlit\n",
    "  - Using `if else` statements for flexible webpage design\n",
    "- [**Section 5**](#Section-6): Conclusion"
   ]
  },
  {
   "attachments": {},
   "cell_type": "markdown",
   "id": "5bb76d61",
   "metadata": {},
   "source": [
    "## Section 1: Setup\n",
    "\n",
    "Download the <a href=\"https://github.com/nymta/Open-Data-Week-2023\">GitHub repository for this project</a> as a zip file.\n",
    "\n",
    "![](src/images/clone-repo.PNG)\n",
    "\n",
    "Extract the files in this folder to somewhere on your computer by hitting the \"Extract all\" button.\n",
    "\n",
    "![](src/images/extract_button.PNG)\n",
    "\n",
    "Open VSCode from Anaconda Navigator.\n",
    "\n",
    "![](src/images/anaconda-navigator.PNG)\n",
    "\n",
    "Click File -> Open Folder in VSCode, and select the folder associated with this project.\n",
    "\n",
    "![](src/images/open-folder.PNG)"
   ]
  },
  {
   "attachments": {},
   "cell_type": "markdown",
   "id": "77977fe0",
   "metadata": {},
   "source": [
    "## Section 2: Intro to Streamlit"
   ]
  },
  {
   "attachments": {},
   "cell_type": "markdown",
   "id": "e816b844",
   "metadata": {},
   "source": [
    "### Streamlit Background\n",
    "\n",
    "We use Python's streamlit library to create <a href=\"https://metrics.mta.info/\">MTA's public metrics website</a>. This library makes it easy to understand how your Python scripts translate to what you see in your web browser.\n",
    "\n",
    "In this section we will breifly go over some of the functionalities of streamlit."
   ]
  },
  {
   "attachments": {},
   "cell_type": "markdown",
   "id": "3f0a934f",
   "metadata": {},
   "source": [
    "### Running Streamlit Pages\n",
    "\n",
    "Lets start by opening a project terminal in VSCode.\n",
    "\n",
    "![](src/images/new_terminal.PNG)\n",
    "\n",
    "We have set up the <a href=\"https://github.com/nymta/Open-Data-Week-2023\">Github repository</a> with scripts creating a basic streamlit website visualizing MTA bus data.\n",
    "\n",
    "To see a webpage or website created by Python scripts that use streamlit, you run the `streamlit run path_to_pythonfile.py` command in the terminal. Individual scripts correspond to individual streamlit pages. If you structure a project with individual scripts in a `pages/` directory, and a main script in the top-level project directory, you can run the script in the top-level directory to [make a multipage app](https://docs.streamlit.io/library/get-started/multipage-apps) (like you see here with `app.py`).\n",
    "\n",
    "\n",
    "To see the website created by the Python scripts in the `open-data-week-2023` folder, lets run `streamlit run app.py` in the terminal.\n",
    "\n",
    "![](src/images/run_apppy.PNG)\n",
    "\n",
    "You should see the following message appear in your terminal, and a webpage looking similar to this one should pop-up in your default browser:\n",
    "\n",
    "![](src/images/terminal-message.PNG)\n",
    "\n",
    "![](src/images/app-startup.PNG)\n",
    "\n",
    "This means that the webpage is now deployed locally on your computer at the Local URL, and viewable by others online at the Network URL. If you don't see this, let us know and we can assist."
   ]
  },
  {
   "attachments": {},
   "cell_type": "markdown",
   "id": "66710233",
   "metadata": {},
   "source": [
    "### Now lets use streamlit 🙌\n",
    "\n",
    "For this part of the demo, we'll be working in the the `pages/bus_speeds.py` script. Open this script now from the explorer tab on the left hand side of the screen.\n",
    "\n",
    "![](src/images/explorer.PNG)\n",
    "\n",
    "Python scripts contain a series of Python commands to be executed in sequence, usually to accomplish a specific goal (think of a recipe). You can execute individual steps in the sequence by highlighting them and hitting lines of code and hitting `ctrl+enter`. Scripts usually import librarys, which contain collections of functions, classes, and objects that make accomplishing different tasks easier. After importing a library, you can access functions and objects within it.\n",
    "\n",
    "You can import a library into a script by using an `import` function, and give it an alias to access functions within it with `as`.\n",
    "\n",
    "In the `bus_speeds.py` script, we import streamlit first with `import streamlit as st`, and import pandas with `import pandas as pd`. After doing this, we can access streamlit functions and objects with `st.function_name`, and pandas functions and objects with `pd.function_name`.\n",
    "\n",
    "Tip: Hit `ctrl+space` as you're typing to bring up autocomplete options and documentation of those options"
   ]
  },
  {
   "cell_type": "code",
   "execution_count": 1,
   "id": "08700f2f",
   "metadata": {},
   "outputs": [
    {
     "name": "stderr",
     "output_type": "stream",
     "text": [
      "2023-03-13 16:13:16.872 INFO    numexpr.utils: NumExpr defaulting to 8 threads.\n"
     ]
    }
   ],
   "source": [
    "import streamlit as st\n",
    "import pandas as pd"
   ]
  },
  {
   "attachments": {},
   "cell_type": "markdown",
   "id": "3f5fd9c0",
   "metadata": {},
   "source": [
    "### How to add webpage elements in streamlit\n",
    "\n",
    "Streamlit functions typically create elements that display in your browser, and are often interactive. Several functions produce text in your browser, and can help organize a webpage.\n",
    "\n",
    "There are many different ways to write text in streamlit.\n",
    "\n",
    "To write titles, we can use:\n",
    "\n",
    "``` python\n",
    "st.title('Title name')\n",
    "\n",
    "```\n",
    "\n",
    "To write headers, we can use:\n",
    "\n",
    "\n",
    "``` python\n",
    "st.header('Header name')\n",
    "\n",
    "``` \n",
    "\n",
    "To write body text:\n",
    "\n",
    "``` python\n",
    "st.write(\"body text goes here)\n",
    "\n",
    "``` \n",
    "\n",
    "For example, `st.title('Insert Text')` produces:"
   ]
  },
  {
   "attachments": {
    "image.png": {
     "image/png": "[encoded data removed]"
    }
   },
   "cell_type": "markdown",
   "id": "56fbe312",
   "metadata": {},
   "source": [
    "![](attachment:image.png)"
   ]
  },
  {
   "cell_type": "code",
   "execution_count": 2,
   "id": "84b948c3",
   "metadata": {},
   "outputs": [
    {
     "name": "stderr",
     "output_type": "stream",
     "text": [
      "2023-03-13 16:13:20.577 \n",
      "  \u001b[33m\u001b[1mWarning:\u001b[0m to view this Streamlit app on a browser, run it with the following\n",
      "  command:\n",
      "\n",
      "    streamlit run c:\\Users\\1282536\\Anaconda3\\lib\\site-packages\\ipykernel_launcher.py [ARGUMENTS]\n"
     ]
    }
   ],
   "source": [
    "st.write(\n",
    "    (\n",
    "        \"Insert Text\"\n",
    "        \" Next sentence,\"\n",
    "        \" Next sentence,\"\n",
    "        \" Final sentence.\"\n",
    "    )\n",
    ")\n",
    "st.write(\"\")"
   ]
  },
  {
   "attachments": {
    "image.png": {
     "image/png": "[encoded data removed]"
    }
   },
   "cell_type": "markdown",
   "id": "970061aa",
   "metadata": {},
   "source": [
    "![](attachment:image.png)"
   ]
  },
  {
   "attachments": {},
   "cell_type": "markdown",
   "id": "3b6da9c9",
   "metadata": {},
   "source": [
    "## Section 3: Reading in and processing data\n",
    "\n",
    "### Reading in data\n",
    "\n",
    "MTA data can be found on the [New York State data portal](data.ny.gov). In this demonstration, we'll use [MTA Bus Speeds data from 2020 onwards](https://data.ny.gov/Transportation/MTA-Daily-Ridership-Data-Beginning-2020/vxuj-8kew). You can search for other MTA datasets on the catalog using the search button, or look in the MTA Open Data Catalog on the [MTA Open Data Program page](https://new.mta.info/open-data).\n",
    "\n",
    "You have two options for reading in MTA datasets from the Open Data Portal:\n",
    "\n",
    "- You can click the 'Export' button, and use the 'Copy link address' URL.\n",
    "\n",
    "    ![](src/images/export-copylink.PNG)\n",
    "\n",
    "- If you're working with real-time data, you may want to use the link address found under the 'API' button (which stands for Application Programming Interface). You can download data as a JSON file or CSV file. If you use the API link, you'll want to add `$limit=1000000` to the end of the URL or it will only read 1,000 rows of the data.\n",
    "\n",
    "    ![](src/images/mta-api.PNG)\n",
    "\n",
    "You can read the data in with the pandas `read_csv` function.\n",
    "\n",
    "```python\n",
    "#MTA Bus Speeds: Beginning 2020 data upload\n",
    "data_url = \"https://data.ny.gov/api/views/vxuj-8kew/rows.csv?accessType=DOWNLOAD&sorting=true\"\n",
    "\n",
    "df = pd.read_csv(data_url) #transform to pandas dataframe\n",
    "\n",
    "```\n",
    "\n",
    "To print any dataframe to the web browser, you can use streamlit. You can simply type:\n",
    "\n",
    "`st.dataframe(data)`"
   ]
  },
  {
   "attachments": {},
   "cell_type": "markdown",
   "id": "2c9c9328",
   "metadata": {},
   "source": [
    "### Working with datetimes\n",
    "\n",
    "A [datetime object](https://docs.python.org/3/library/datetime.html#datetime-objects) can be reformatted and manipulated using functions built into the [`datetime` module](https://docs.python.org/3/library/datetime.html#). Datetime objects in a datetime column are usually printed in a similar format to this: `2022-02-12 08:56:32.005822`.\n",
    "\n",
    "You can reformat datetime objects as string objects in different formats using the `datetimeobj.strftime(format)` method, where `format` is a string using [format codes for dates and times](https://docs.python.org/3/library/datetime.html#strftime-and-strptime-format-codes). So if you wanted the above datetime object to appear as `February 12, in 2022`, you could use the following script:"
   ]
  },
  {
   "cell_type": "code",
   "execution_count": 3,
   "id": "2d7ff046",
   "metadata": {},
   "outputs": [
    {
     "name": "stdout",
     "output_type": "stream",
     "text": [
      "2022-02-12 08:56:32.005822\n",
      "<class 'datetime.datetime'>\n",
      "2022-02-12 08:56:32.005822\n",
      "Now after the transformaion:\n",
      "<class 'str'>\n",
      "February 12, in 2022\n"
     ]
    }
   ],
   "source": [
    "# import datetime module\n",
    "import datetime as dt\n",
    "\n",
    "# create a datetime object with the dt.datetime() function\n",
    "datetimeobj = dt.datetime(year = 2022, month = 2, day = 12, hour = 8, minute=56, second=32, microsecond=5822)\n",
    "\n",
    "print(datetimeobj)\n",
    "\n",
    "# print data type\n",
    "print(type(datetimeobj))\n",
    "\n",
    "print(datetimeobj)\n",
    "\n",
    "# format the datetime object as a string\n",
    "datetimeobj = datetimeobj.strftime('%B %d, in %Y')\n",
    "\n",
    "print(\"Now after the transformaion:\")\n",
    "\n",
    "print(type(datetimeobj))\n",
    "\n",
    "print(datetimeobj)"
   ]
  },
  {
   "attachments": {},
   "cell_type": "markdown",
   "id": "2a4cd12a",
   "metadata": {},
   "source": [
    "In our case, we will be changing the month column to date_time. Pandas provides a useful `to_datetime` function that we can use to transform all elements in a pandas Series to datetimes (individual columns in pandas [DataFrames are series](https://pandas.pydata.org/docs/user_guide/dsintro.html)). The below function creates a new column in our `bus_speed` dataframe called 'month', created by converting the elements of the 'date' column to datetime objects.\n",
    "\n",
    "`bus_speed['month'] = pd.to_datetime(bus_speed['date'])` \n",
    "\n",
    "Other functions in the `datetime` library enable more complex manipulatons with datetime objects. For instance, the `timedelta` module has functions to add and subtract dates and times."
   ]
  },
  {
   "attachments": {},
   "cell_type": "markdown",
   "id": "5e8effc4",
   "metadata": {},
   "source": [
    "### Renaming columns\n",
    "\n",
    "To rename any columns we can use the [`rename` method of Python DataFrame classes](https://pandas.pydata.org/docs/reference/api/pandas.DataFrame.rename.html). Using the `column` parameter lets you rename columns directly; you provide a [dictionary](https://docs.python.org/3/tutorial/datastructures.html#dictionaries) with keys matching the column you want renamed, and values of the new columns."
   ]
  },
  {
   "cell_type": "code",
   "execution_count": 4,
   "id": "91164dae",
   "metadata": {},
   "outputs": [
    {
     "name": "stdout",
     "output_type": "stream",
     "text": [
      "   col1 col2\n",
      "0     1    A\n",
      "1     2    B\n",
      "2     3    C\n",
      "3     4    D\n",
      "   Number column String column\n",
      "0              1             A\n",
      "1              2             B\n",
      "2              3             C\n",
      "3              4             D\n"
     ]
    }
   ],
   "source": [
    "import pandas as pd\n",
    "\n",
    "# create pandas DataFrame\n",
    "dfobject = pd.DataFrame({\"col1\" : range(1, 5),\n",
    "                         \"col2\" : [\"A\", \"B\", \"C\", \"D\"]})\n",
    "\n",
    "print(dfobject)\n",
    "\n",
    "dfobject = dfobject.rename(columns={'col1': 'Number column', 'col2': 'String column'})\n",
    "\n",
    "print(dfobject)"
   ]
  },
  {
   "attachments": {},
   "cell_type": "markdown",
   "id": "7983af05",
   "metadata": {},
   "source": [
    "### Column selection\n",
    "\n",
    "Each column in a DataFrame is a Series. As a single column is selected, the returned object is a pandas Series. An easy way to create a DataFrame is to provide a dictionary to `pd.DataFrame`, where each key is a column name, and each row is an element in equal-length lists corresponding to each column. Below is an example:"
   ]
  },
  {
   "cell_type": "code",
   "execution_count": 5,
   "id": "52327f5e",
   "metadata": {},
   "outputs": [
    {
     "data": {
      "text/html": [
       "<div>\n",
       "<style scoped>\n",
       "    .dataframe tbody tr th:only-of-type {\n",
       "        vertical-align: middle;\n",
       "    }\n",
       "\n",
       "    .dataframe tbody tr th {\n",
       "        vertical-align: top;\n",
       "    }\n",
       "\n",
       "    .dataframe thead th {\n",
       "        text-align: right;\n",
       "    }\n",
       "</style>\n",
       "<table border=\"1\" class=\"dataframe\">\n",
       "  <thead>\n",
       "    <tr style=\"text-align: right;\">\n",
       "      <th></th>\n",
       "      <th>A</th>\n",
       "      <th>B</th>\n",
       "      <th>C</th>\n",
       "    </tr>\n",
       "  </thead>\n",
       "  <tbody>\n",
       "    <tr>\n",
       "      <th>0</th>\n",
       "      <td>one</td>\n",
       "      <td>a</td>\n",
       "      <td>1</td>\n",
       "    </tr>\n",
       "    <tr>\n",
       "      <th>1</th>\n",
       "      <td>two</td>\n",
       "      <td>b</td>\n",
       "      <td>2</td>\n",
       "    </tr>\n",
       "    <tr>\n",
       "      <th>2</th>\n",
       "      <td>three</td>\n",
       "      <td>c</td>\n",
       "      <td>3</td>\n",
       "    </tr>\n",
       "    <tr>\n",
       "      <th>3</th>\n",
       "      <td>four</td>\n",
       "      <td>d</td>\n",
       "      <td>4</td>\n",
       "    </tr>\n",
       "    <tr>\n",
       "      <th>4</th>\n",
       "      <td>five</td>\n",
       "      <td>e</td>\n",
       "      <td>5</td>\n",
       "    </tr>\n",
       "  </tbody>\n",
       "</table>\n",
       "</div>"
      ],
      "text/plain": [
       "       A  B  C\n",
       "0    one  a  1\n",
       "1    two  b  2\n",
       "2  three  c  3\n",
       "3   four  d  4\n",
       "4   five  e  5"
      ]
     },
     "execution_count": 5,
     "metadata": {},
     "output_type": "execute_result"
    }
   ],
   "source": [
    "import pandas as pd\n",
    "\n",
    "df = pd.DataFrame({\n",
    "    'A' : ['one', 'two', 'three', 'four', 'five'],\n",
    "    'B' : ['a', 'b', 'c', 'd', 'e'],\n",
    "    'C' : ['1', '2', '3', '4', '5']\n",
    "    }\n",
    ")\n",
    "\n",
    "df"
   ]
  },
  {
   "attachments": {},
   "cell_type": "markdown",
   "id": "16b099da",
   "metadata": {},
   "source": [
    "If you want to subset the data to specific sets of columns, you can use square brackets [] with a list of the the column names you want to limit the data to."
   ]
  },
  {
   "cell_type": "code",
   "execution_count": 6,
   "id": "38c7c52b",
   "metadata": {},
   "outputs": [
    {
     "data": {
      "text/html": [
       "<div>\n",
       "<style scoped>\n",
       "    .dataframe tbody tr th:only-of-type {\n",
       "        vertical-align: middle;\n",
       "    }\n",
       "\n",
       "    .dataframe tbody tr th {\n",
       "        vertical-align: top;\n",
       "    }\n",
       "\n",
       "    .dataframe thead th {\n",
       "        text-align: right;\n",
       "    }\n",
       "</style>\n",
       "<table border=\"1\" class=\"dataframe\">\n",
       "  <thead>\n",
       "    <tr style=\"text-align: right;\">\n",
       "      <th></th>\n",
       "      <th>A</th>\n",
       "      <th>B</th>\n",
       "    </tr>\n",
       "  </thead>\n",
       "  <tbody>\n",
       "    <tr>\n",
       "      <th>0</th>\n",
       "      <td>one</td>\n",
       "      <td>a</td>\n",
       "    </tr>\n",
       "    <tr>\n",
       "      <th>1</th>\n",
       "      <td>two</td>\n",
       "      <td>b</td>\n",
       "    </tr>\n",
       "    <tr>\n",
       "      <th>2</th>\n",
       "      <td>three</td>\n",
       "      <td>c</td>\n",
       "    </tr>\n",
       "    <tr>\n",
       "      <th>3</th>\n",
       "      <td>four</td>\n",
       "      <td>d</td>\n",
       "    </tr>\n",
       "    <tr>\n",
       "      <th>4</th>\n",
       "      <td>five</td>\n",
       "      <td>e</td>\n",
       "    </tr>\n",
       "  </tbody>\n",
       "</table>\n",
       "</div>"
      ],
      "text/plain": [
       "       A  B\n",
       "0    one  a\n",
       "1    two  b\n",
       "2  three  c\n",
       "3   four  d\n",
       "4   five  e"
      ]
     },
     "execution_count": 6,
     "metadata": {},
     "output_type": "execute_result"
    }
   ],
   "source": [
    "df[['A', 'B']]"
   ]
  },
  {
   "attachments": {},
   "cell_type": "markdown",
   "id": "e158775b",
   "metadata": {},
   "source": [
    "If you want to select an individual column (a pandas Series), you can list the string name of one column in the brackets."
   ]
  },
  {
   "cell_type": "code",
   "execution_count": 7,
   "id": "0b736b60",
   "metadata": {},
   "outputs": [
    {
     "data": {
      "text/plain": [
       "0    1\n",
       "1    2\n",
       "2    3\n",
       "3    4\n",
       "4    5\n",
       "Name: C, dtype: object"
      ]
     },
     "execution_count": 7,
     "metadata": {},
     "output_type": "execute_result"
    }
   ],
   "source": [
    "df['C']"
   ]
  },
  {
   "attachments": {},
   "cell_type": "markdown",
   "id": "1f84c9c0",
   "metadata": {},
   "source": [
    "### Changing data types\n",
    "\n",
    "The ***dtypes*** attribute of a dataframe returns a Series with the data type of each column. The index of the Series is the original DataFrame’s columns. Columns with mixed types are represented with a dtype of 'object.'"
   ]
  },
  {
   "cell_type": "code",
   "execution_count": 8,
   "id": "5b972526",
   "metadata": {},
   "outputs": [
    {
     "data": {
      "text/plain": [
       "A    object\n",
       "B    object\n",
       "C    object\n",
       "dtype: object"
      ]
     },
     "execution_count": 8,
     "metadata": {},
     "output_type": "execute_result"
    }
   ],
   "source": [
    "df.dtypes"
   ]
  },
  {
   "attachments": {},
   "cell_type": "markdown",
   "id": "111fbbcf",
   "metadata": {},
   "source": [
    "### Changing column types\n",
    "\n",
    "Sometimes, we need to change the data type of data we read in. This can be done using `astype` method of pandas Series."
   ]
  },
  {
   "cell_type": "code",
   "execution_count": 9,
   "id": "c30adfbc",
   "metadata": {},
   "outputs": [
    {
     "data": {
      "text/html": [
       "<div>\n",
       "<style scoped>\n",
       "    .dataframe tbody tr th:only-of-type {\n",
       "        vertical-align: middle;\n",
       "    }\n",
       "\n",
       "    .dataframe tbody tr th {\n",
       "        vertical-align: top;\n",
       "    }\n",
       "\n",
       "    .dataframe thead th {\n",
       "        text-align: right;\n",
       "    }\n",
       "</style>\n",
       "<table border=\"1\" class=\"dataframe\">\n",
       "  <thead>\n",
       "    <tr style=\"text-align: right;\">\n",
       "      <th></th>\n",
       "      <th>A</th>\n",
       "      <th>B</th>\n",
       "    </tr>\n",
       "  </thead>\n",
       "  <tbody>\n",
       "    <tr>\n",
       "      <th>0</th>\n",
       "      <td>1.1</td>\n",
       "      <td>1</td>\n",
       "    </tr>\n",
       "    <tr>\n",
       "      <th>1</th>\n",
       "      <td>1.2</td>\n",
       "      <td>2</td>\n",
       "    </tr>\n",
       "    <tr>\n",
       "      <th>2</th>\n",
       "      <td>1.3</td>\n",
       "      <td>3</td>\n",
       "    </tr>\n",
       "    <tr>\n",
       "      <th>3</th>\n",
       "      <td>1.4</td>\n",
       "      <td>4</td>\n",
       "    </tr>\n",
       "    <tr>\n",
       "      <th>4</th>\n",
       "      <td>1.5</td>\n",
       "      <td>5</td>\n",
       "    </tr>\n",
       "  </tbody>\n",
       "</table>\n",
       "</div>"
      ],
      "text/plain": [
       "     A  B\n",
       "0  1.1  1\n",
       "1  1.2  2\n",
       "2  1.3  3\n",
       "3  1.4  4\n",
       "4  1.5  5"
      ]
     },
     "execution_count": 9,
     "metadata": {},
     "output_type": "execute_result"
    }
   ],
   "source": [
    "# here's another way to make a dataframe\n",
    "df2 = pd.DataFrame(\n",
    "    columns=['A','B'], \n",
    "    data=[\n",
    "        ['1.1','1'],\n",
    "        ['1.2','2'],\n",
    "        ['1.3','3'],\n",
    "        ['1.4','4'],\n",
    "        ['1.5','5']])\n",
    "\n",
    "df2"
   ]
  },
  {
   "attachments": {},
   "cell_type": "markdown",
   "id": "805be86f",
   "metadata": {},
   "source": [
    "It's generally a good practice to check the type of our data by looking at the `dtypes` attribute of dataframes."
   ]
  },
  {
   "cell_type": "code",
   "execution_count": 10,
   "id": "48db2129",
   "metadata": {},
   "outputs": [
    {
     "data": {
      "text/plain": [
       "A    object\n",
       "B    object\n",
       "dtype: object"
      ]
     },
     "execution_count": 10,
     "metadata": {},
     "output_type": "execute_result"
    }
   ],
   "source": [
    "df2.dtypes"
   ]
  },
  {
   "cell_type": "code",
   "execution_count": 11,
   "id": "1c23b862",
   "metadata": {},
   "outputs": [
    {
     "data": {
      "text/plain": [
       "A    float64\n",
       "B      int32\n",
       "dtype: object"
      ]
     },
     "execution_count": 11,
     "metadata": {},
     "output_type": "execute_result"
    }
   ],
   "source": [
    "df2['A'] = df2['A'].astype(float)\n",
    "df2['B'] = df2['B'].astype(int)\n",
    "\n",
    "df2.dtypes"
   ]
  },
  {
   "attachments": {},
   "cell_type": "markdown",
   "id": "3f7e361c",
   "metadata": {},
   "source": [
    "### Grouping data\n",
    "\n",
    "A DataFrame's `groupby()` method involves splitting the object, applying a function to each split, and combining the results. This can be used to quickly group large amounts of data and compute operations on these groups.\n",
    "\n",
    "We can use group by to find averages and aggregate using callable, string, dict, or list of string/callables."
   ]
  },
  {
   "cell_type": "code",
   "execution_count": 12,
   "id": "f0e10fae",
   "metadata": {},
   "outputs": [
    {
     "data": {
      "text/html": [
       "<div>\n",
       "<style scoped>\n",
       "    .dataframe tbody tr th:only-of-type {\n",
       "        vertical-align: middle;\n",
       "    }\n",
       "\n",
       "    .dataframe tbody tr th {\n",
       "        vertical-align: top;\n",
       "    }\n",
       "\n",
       "    .dataframe thead th {\n",
       "        text-align: right;\n",
       "    }\n",
       "</style>\n",
       "<table border=\"1\" class=\"dataframe\">\n",
       "  <thead>\n",
       "    <tr style=\"text-align: right;\">\n",
       "      <th></th>\n",
       "      <th>A</th>\n",
       "      <th>B</th>\n",
       "      <th>C</th>\n",
       "    </tr>\n",
       "  </thead>\n",
       "  <tbody>\n",
       "    <tr>\n",
       "      <th>0</th>\n",
       "      <td>Cat</td>\n",
       "      <td>1</td>\n",
       "      <td>0.1</td>\n",
       "    </tr>\n",
       "    <tr>\n",
       "      <th>1</th>\n",
       "      <td>Cat</td>\n",
       "      <td>2</td>\n",
       "      <td>0.2</td>\n",
       "    </tr>\n",
       "    <tr>\n",
       "      <th>2</th>\n",
       "      <td>Dog</td>\n",
       "      <td>3</td>\n",
       "      <td>0.3</td>\n",
       "    </tr>\n",
       "    <tr>\n",
       "      <th>3</th>\n",
       "      <td>Dog</td>\n",
       "      <td>4</td>\n",
       "      <td>0.4</td>\n",
       "    </tr>\n",
       "  </tbody>\n",
       "</table>\n",
       "</div>"
      ],
      "text/plain": [
       "     A  B    C\n",
       "0  Cat  1  0.1\n",
       "1  Cat  2  0.2\n",
       "2  Dog  3  0.3\n",
       "3  Dog  4  0.4"
      ]
     },
     "execution_count": 12,
     "metadata": {},
     "output_type": "execute_result"
    }
   ],
   "source": [
    "df3 = pd.DataFrame({'A': ['Cat', 'Cat', 'Dog', 'Dog'],\n",
    "                        'B': [1, 2, 3, 4],\n",
    "                        'C': [0.1,0.2,0.3,0.4]})\n",
    "\n",
    "df3"
   ]
  },
  {
   "cell_type": "code",
   "execution_count": 14,
   "id": "ce0bd5b4",
   "metadata": {},
   "outputs": [
    {
     "data": {
      "text/html": [
       "<div>\n",
       "<style scoped>\n",
       "    .dataframe tbody tr th:only-of-type {\n",
       "        vertical-align: middle;\n",
       "    }\n",
       "\n",
       "    .dataframe tbody tr th {\n",
       "        vertical-align: top;\n",
       "    }\n",
       "\n",
       "    .dataframe thead th {\n",
       "        text-align: right;\n",
       "    }\n",
       "</style>\n",
       "<table border=\"1\" class=\"dataframe\">\n",
       "  <thead>\n",
       "    <tr style=\"text-align: right;\">\n",
       "      <th></th>\n",
       "      <th>B</th>\n",
       "      <th>C</th>\n",
       "    </tr>\n",
       "    <tr>\n",
       "      <th>A</th>\n",
       "      <th></th>\n",
       "      <th></th>\n",
       "    </tr>\n",
       "  </thead>\n",
       "  <tbody>\n",
       "    <tr>\n",
       "      <th>Cat</th>\n",
       "      <td>3</td>\n",
       "      <td>0.15</td>\n",
       "    </tr>\n",
       "    <tr>\n",
       "      <th>Dog</th>\n",
       "      <td>7</td>\n",
       "      <td>0.35</td>\n",
       "    </tr>\n",
       "  </tbody>\n",
       "</table>\n",
       "</div>"
      ],
      "text/plain": [
       "     B     C\n",
       "A           \n",
       "Cat  3  0.15\n",
       "Dog  7  0.35"
      ]
     },
     "execution_count": 14,
     "metadata": {},
     "output_type": "execute_result"
    }
   ],
   "source": [
    "df_grp = df3.groupby('A').agg({'B': 'sum','C': 'mean'})\n",
    "df_grp"
   ]
  },
  {
   "cell_type": "code",
   "execution_count": null,
   "id": "ab790246",
   "metadata": {},
   "outputs": [],
   "source": [
    "# there are also other ways to aggregate\n",
    "df_grp2 = df3.groupby('A').agg(sum)"
   ]
  },
  {
   "attachments": {},
   "cell_type": "markdown",
   "id": "5a2cadea",
   "metadata": {},
   "source": [
    "## Section 4: Streamlit inputs + page design, and Altair visualization\n",
    "\n",
    "### Background\n",
    "\n",
    "Streamlit has a number of functions that allow for flexible webpage designs and ways to organize information. A useful feature of Streamlit is after using `streamlit run pythonscript.py` to open streamlit in your browser, you can hit the re-run button in the top right of the screen to re-generate your script and see what changes are reflected on the webpage. This section is intended to be a helpful reference as we go through the `pages/bus_cjfm.py` script.\n",
    "\n",
    "![](src/images/rerun.PNG)\n",
    "\n",
    "In `pages/bus_cjfm.py`, we're going to explore different webpage design and visualization options using [Bus Customer Journey Focused Metrics Data](https://data.ny.gov/Transportation/MTA-Bus-Customer-Journey-Focused-Metrics-Beginning/wrt8-4b59) from 2020 onwards."
   ]
  },
  {
   "attachments": {},
   "cell_type": "markdown",
   "id": "9b4bf2b9",
   "metadata": {},
   "source": [
    "### Streamlit inputs\n",
    "\n",
    "Virtually all streamlit functions make something appear in your browser. Many streamlit functions accept inputs from users, returning values that you can store in variables. Each time a user changes a value, the script re-runs from the beginning. You can use the values stored in these variables to create dynamic webpages, that let users filter, transform, and visualize datasets based on selections they make.\n",
    "\n",
    "- `st.selectbox()` display a drop-down select box on the browser, showing a `list` of options you make available. It returns a `string` representing the selected value. `st.radio()` functions similarly, but shows radio buttons instead\n",
    "- `st.multiselect()` functions similar to `st.selectbox`, but lets the users select multiple or no values. It returns a `list` representing the selected values. \n",
    "- `st.dateinput()` lets the user enter one or two dates depending on whether you provide one date to the `values` parameter, or a list of two dates. It returns a `date` object if you enter one date in the values parameter, or two dates if you enter two.\n",
    "- `st.checkbox()` is a checkbox. It returns `True` if the user checks it, and `False` if it's not checked\n",
    "\n",
    "There are many other input options in streamlit, including `st.form`, and `st.text_input`.\n",
    "\n",
    "### Filtering datasets\n",
    "\n",
    "You can filter datasets basd on inputs. The `.loc[]` method of pandas DataFrames makes it easy to filter DataFrames to rows matching conditions you specify, by providing a boolean (True/False) series of equal length to the dataframe (this sounds more complicated than it is; check the code below for some examples). You can also supply multiple conditions by wrapping each series in parentheses and using an and statement. The next code block illustrates some common types of filters you're likely to use in streamlit:"
   ]
  },
  {
   "cell_type": "code",
   "execution_count": null,
   "id": "b1771044",
   "metadata": {},
   "outputs": [
    {
     "name": "stdout",
     "output_type": "stream",
     "text": [
      "      A  B    C\n",
      "2   Dog  3  0.3\n",
      "3   Dog  4  0.4\n",
      "4  Fish  6  0.6\n",
      "     A  B    C\n",
      "0  Cat  1  0.1\n",
      "1  Cat  2  0.2\n",
      "      A  B    C\n",
      "0   Cat  1  0.1\n",
      "1   Cat  2  0.2\n",
      "4  Fish  6  0.6\n",
      "     A  B    C\n",
      "3  Dog  4  0.4\n"
     ]
    }
   ],
   "source": [
    "df3 = pd.DataFrame({'A': ['Cat', 'Cat', 'Dog', 'Dog', \"Fish\"],\n",
    "                        'B': [1, 2, 3, 4, 6],\n",
    "                        'C': [0.1,0.2,0.3,0.4, 0.6]})\n",
    "\n",
    "# lets try one filter\n",
    "filt1 = df3.loc[df3.B > 2]\n",
    "\n",
    "print(filt1)\n",
    "\n",
    "# a column filter\n",
    "filt2 = df3.loc[df3[\"A\"] == \"Cat\"]\n",
    "\n",
    "print(filt2)\n",
    "\n",
    "# an isin filter\n",
    "filt3 = df3.loc[df3[\"A\"].isin(['Cat', \"Fish\"])]\n",
    "\n",
    "print(filt3)\n",
    "\n",
    "# combining filters\n",
    "filt4 = df3.loc[(df3[\"A\"] == \"Dog\") & (df3[\"B\"] == 4)]\n",
    "\n",
    "print(filt4)"
   ]
  },
  {
   "attachments": {},
   "cell_type": "markdown",
   "id": "b54199c0",
   "metadata": {},
   "source": [
    "### Organizing streamlit pages\n",
    "\n",
    "In addition to the text-writing functions we went over earlier, streamlit has a number of functions for organizing the appearance of a webpage. These can take advantage of `with` notation; we won't go over the behind-the-scenes of this too much, but essentially, after initializing an organization element, if you write `with element:`, everything indented under that element will appear in it.\n",
    "\n",
    "Streamlit layout options include:\n",
    "\n",
    "- `st.columns()`: Creates columns across a page. You can either provide a number which creates that number of equal-width columns, or a list of widths which sizes the columns relative to the width (so `st.columns([1, 1, 2])` sizes the third column twice as wide as the first two).\n",
    "- `st.tabs()`: Creates tabs that only display content within the tab if the tab is selected. You input a list of names for each tab\n",
    "- `st.expander()`: Creates an expander. If the user clicks on it, it unfolds revealing the elements inside.\n",
    "- `st.sidebar`: Creates a sidebar on the page"
   ]
  },
  {
   "cell_type": "code",
   "execution_count": null,
   "id": "8e2dad2a",
   "metadata": {},
   "outputs": [],
   "source": [
    "import streamlit as st\n",
    "\n",
    "# the comma here creates two objects - column 1, and column 2\n",
    "col1, col2 = st.columns(2)\n",
    "\n",
    "with col1:\n",
    "    st.write(\"I'm in column 1\")\n",
    "\n",
    "with col2:\n",
    "    st.write(\"I'm in column 2\")\n",
    "\n",
    "with st.expander(\"Expander label\"):\n",
    "\n",
    "    st.write(\"I appear if you unfold the expander\")\n",
    "\n",
    "    st.write(\"So do I\")\n",
    "\n",
    "tab1, tab2 = st.tabs([\"First tab\", \"Second tab\"])\n",
    "\n",
    "with tab1:\n",
    "    st.write(\"I appear in the first tab\")\n",
    "\n",
    "with tab2:\n",
    "    st.write(\"I appear in the second tab\")\n",
    "    \n",
    "with st.sidebar:\n",
    "    st.write(\"I appear in the sidebar\")\n"
   ]
  },
  {
   "attachments": {},
   "cell_type": "markdown",
   "id": "b14d67d6",
   "metadata": {},
   "source": [
    "### Visualizing data in streamlit\n",
    "\n",
    "The [Altair library](https://altair-viz.github.io/) makes it easy to make interactive visualizations, and streamlit's `st.altair_chart()` function lets you display them.\n",
    "\n",
    "The [typical steps](https://altair-viz.github.io/getting_started/starting.html) to create an Altair visualization are\n",
    "\n",
    "1) Create a Chart object from a dataframe with `alt.Chart(dataframe)`\n",
    "2) Identify how the data should be visualized with a `Chart.mark_*()` method (e.g., `Chart.mark_line()`, `Chart.mark_bar()`)\n",
    "3) Map dataframe columns to features with the `Chart.mark_*.encode()` method"
   ]
  },
  {
   "cell_type": "code",
   "execution_count": null,
   "id": "14ebe0e6",
   "metadata": {},
   "outputs": [
    {
     "data": {
      "text/html": [
       "\n",
       "<div id=\"altair-viz-d7e4fb02eca248eab39d4fc924961f7d\"></div>\n",
       "<script type=\"text/javascript\">\n",
       "  var VEGA_DEBUG = (typeof VEGA_DEBUG == \"undefined\") ? {} : VEGA_DEBUG;\n",
       "  (function(spec, embedOpt){\n",
       "    let outputDiv = document.currentScript.previousElementSibling;\n",
       "    if (outputDiv.id !== \"altair-viz-d7e4fb02eca248eab39d4fc924961f7d\") {\n",
       "      outputDiv = document.getElementById(\"altair-viz-d7e4fb02eca248eab39d4fc924961f7d\");\n",
       "    }\n",
       "    const paths = {\n",
       "      \"vega\": \"https://cdn.jsdelivr.net/npm//vega@5?noext\",\n",
       "      \"vega-lib\": \"https://cdn.jsdelivr.net/npm//vega-lib?noext\",\n",
       "      \"vega-lite\": \"https://cdn.jsdelivr.net/npm//vega-lite@4.17.0?noext\",\n",
       "      \"vega-embed\": \"https://cdn.jsdelivr.net/npm//vega-embed@6?noext\",\n",
       "    };\n",
       "\n",
       "    function maybeLoadScript(lib, version) {\n",
       "      var key = `${lib.replace(\"-\", \"\")}_version`;\n",
       "      return (VEGA_DEBUG[key] == version) ?\n",
       "        Promise.resolve(paths[lib]) :\n",
       "        new Promise(function(resolve, reject) {\n",
       "          var s = document.createElement('script');\n",
       "          document.getElementsByTagName(\"head\")[0].appendChild(s);\n",
       "          s.async = true;\n",
       "          s.onload = () => {\n",
       "            VEGA_DEBUG[key] = version;\n",
       "            return resolve(paths[lib]);\n",
       "          };\n",
       "          s.onerror = () => reject(`Error loading script: ${paths[lib]}`);\n",
       "          s.src = paths[lib];\n",
       "        });\n",
       "    }\n",
       "\n",
       "    function showError(err) {\n",
       "      outputDiv.innerHTML = `<div class=\"error\" style=\"color:red;\">${err}</div>`;\n",
       "      throw err;\n",
       "    }\n",
       "\n",
       "    function displayChart(vegaEmbed) {\n",
       "      vegaEmbed(outputDiv, spec, embedOpt)\n",
       "        .catch(err => showError(`Javascript Error: ${err.message}<br>This usually means there's a typo in your chart specification. See the javascript console for the full traceback.`));\n",
       "    }\n",
       "\n",
       "    if(typeof define === \"function\" && define.amd) {\n",
       "      requirejs.config({paths});\n",
       "      require([\"vega-embed\"], displayChart, err => showError(`Error loading script: ${err.message}`));\n",
       "    } else {\n",
       "      maybeLoadScript(\"vega\", \"5\")\n",
       "        .then(() => maybeLoadScript(\"vega-lite\", \"4.17.0\"))\n",
       "        .then(() => maybeLoadScript(\"vega-embed\", \"6\"))\n",
       "        .catch(showError)\n",
       "        .then(() => displayChart(vegaEmbed));\n",
       "    }\n",
       "  })({\"config\": {\"view\": {\"continuousWidth\": 400, \"continuousHeight\": 300}}, \"data\": {\"name\": \"data-9f0c1730257ba8612455ef6a84d77b88\"}, \"mark\": \"bar\", \"encoding\": {\"x\": {\"field\": \"A\", \"type\": \"nominal\"}, \"y\": {\"field\": \"B\", \"type\": \"quantitative\"}}, \"$schema\": \"https://vega.github.io/schema/vega-lite/v4.17.0.json\", \"datasets\": {\"data-9f0c1730257ba8612455ef6a84d77b88\": [{\"A\": \"Cat\", \"B\": 1, \"C\": 0.1}, {\"A\": \"Cat\", \"B\": 2, \"C\": 0.2}, {\"A\": \"Dog\", \"B\": 3, \"C\": 0.3}, {\"A\": \"Dog\", \"B\": 4, \"C\": 0.4}, {\"A\": \"Fish\", \"B\": 6, \"C\": 0.6}]}}, {\"mode\": \"vega-lite\"});\n",
       "</script>"
      ],
      "text/plain": [
       "alt.Chart(...)"
      ]
     },
     "execution_count": 21,
     "metadata": {},
     "output_type": "execute_result"
    }
   ],
   "source": [
    "import altair as alt\n",
    "\n",
    "df3 = pd.DataFrame({'A': ['Cat', 'Cat', 'Dog', 'Dog', \"Fish\"],\n",
    "                        'B': [1, 2, 3, 4, 6],\n",
    "                        'C': [0.1,0.2,0.3,0.4, 0.6]})\n",
    "\n",
    "alt.Chart(df3).mark_bar().encode(\n",
    "    x = 'A',\n",
    "    y = 'B'\n",
    ")"
   ]
  },
  {
   "attachments": {},
   "cell_type": "markdown",
   "id": "20f90d3e",
   "metadata": {},
   "source": [
    "You can use the `color` parameter to show different groups on your visualization. Often, Altair will have functions corresponding to individual parameters that let you define options more specifically (e.g., `alt.X()` and `alt.Y()` for the `x` and `y` parameters of the `encode()` method). You can use the `properties` and `configure` methods of charts to make further specifications, and adding the `interactive()` method at the end makes the chart display interactively."
   ]
  },
  {
   "cell_type": "code",
   "execution_count": null,
   "id": "4659ae0c",
   "metadata": {},
   "outputs": [
    {
     "data": {
      "text/html": [
       "\n",
       "<div id=\"altair-viz-66eb24070d82495b965f3d89b661bd9d\"></div>\n",
       "<script type=\"text/javascript\">\n",
       "  var VEGA_DEBUG = (typeof VEGA_DEBUG == \"undefined\") ? {} : VEGA_DEBUG;\n",
       "  (function(spec, embedOpt){\n",
       "    let outputDiv = document.currentScript.previousElementSibling;\n",
       "    if (outputDiv.id !== \"altair-viz-66eb24070d82495b965f3d89b661bd9d\") {\n",
       "      outputDiv = document.getElementById(\"altair-viz-66eb24070d82495b965f3d89b661bd9d\");\n",
       "    }\n",
       "    const paths = {\n",
       "      \"vega\": \"https://cdn.jsdelivr.net/npm//vega@5?noext\",\n",
       "      \"vega-lib\": \"https://cdn.jsdelivr.net/npm//vega-lib?noext\",\n",
       "      \"vega-lite\": \"https://cdn.jsdelivr.net/npm//vega-lite@4.17.0?noext\",\n",
       "      \"vega-embed\": \"https://cdn.jsdelivr.net/npm//vega-embed@6?noext\",\n",
       "    };\n",
       "\n",
       "    function maybeLoadScript(lib, version) {\n",
       "      var key = `${lib.replace(\"-\", \"\")}_version`;\n",
       "      return (VEGA_DEBUG[key] == version) ?\n",
       "        Promise.resolve(paths[lib]) :\n",
       "        new Promise(function(resolve, reject) {\n",
       "          var s = document.createElement('script');\n",
       "          document.getElementsByTagName(\"head\")[0].appendChild(s);\n",
       "          s.async = true;\n",
       "          s.onload = () => {\n",
       "            VEGA_DEBUG[key] = version;\n",
       "            return resolve(paths[lib]);\n",
       "          };\n",
       "          s.onerror = () => reject(`Error loading script: ${paths[lib]}`);\n",
       "          s.src = paths[lib];\n",
       "        });\n",
       "    }\n",
       "\n",
       "    function showError(err) {\n",
       "      outputDiv.innerHTML = `<div class=\"error\" style=\"color:red;\">${err}</div>`;\n",
       "      throw err;\n",
       "    }\n",
       "\n",
       "    function displayChart(vegaEmbed) {\n",
       "      vegaEmbed(outputDiv, spec, embedOpt)\n",
       "        .catch(err => showError(`Javascript Error: ${err.message}<br>This usually means there's a typo in your chart specification. See the javascript console for the full traceback.`));\n",
       "    }\n",
       "\n",
       "    if(typeof define === \"function\" && define.amd) {\n",
       "      requirejs.config({paths});\n",
       "      require([\"vega-embed\"], displayChart, err => showError(`Error loading script: ${err.message}`));\n",
       "    } else {\n",
       "      maybeLoadScript(\"vega\", \"5\")\n",
       "        .then(() => maybeLoadScript(\"vega-lite\", \"4.17.0\"))\n",
       "        .then(() => maybeLoadScript(\"vega-embed\", \"6\"))\n",
       "        .catch(showError)\n",
       "        .then(() => displayChart(vegaEmbed));\n",
       "    }\n",
       "  })({\"config\": {\"view\": {\"continuousWidth\": 400, \"continuousHeight\": 300}}, \"data\": {\"name\": \"data-9f0c1730257ba8612455ef6a84d77b88\"}, \"mark\": \"point\", \"encoding\": {\"color\": {\"field\": \"A\", \"title\": \"Animal\", \"type\": \"nominal\"}, \"shape\": {\"field\": \"A\", \"type\": \"nominal\"}, \"tooltip\": [{\"field\": \"C\", \"type\": \"quantitative\"}, {\"field\": \"A\", \"type\": \"nominal\"}], \"x\": {\"field\": \"B\", \"title\": \"Time\", \"type\": \"ordinal\"}, \"y\": {\"field\": \"C\", \"scale\": {\"domain\": [0, 1]}, \"title\": \"Proportion\", \"type\": \"quantitative\"}}, \"selection\": {\"selector002\": {\"type\": \"interval\", \"bind\": \"scales\", \"encodings\": [\"x\", \"y\"]}}, \"title\": \"Proportions of animals at different times of day\", \"$schema\": \"https://vega.github.io/schema/vega-lite/v4.17.0.json\", \"datasets\": {\"data-9f0c1730257ba8612455ef6a84d77b88\": [{\"A\": \"Cat\", \"B\": 1, \"C\": 0.1}, {\"A\": \"Cat\", \"B\": 2, \"C\": 0.2}, {\"A\": \"Dog\", \"B\": 3, \"C\": 0.3}, {\"A\": \"Dog\", \"B\": 4, \"C\": 0.4}, {\"A\": \"Fish\", \"B\": 6, \"C\": 0.6}]}}, {\"mode\": \"vega-lite\"});\n",
       "</script>"
      ],
      "text/plain": [
       "alt.Chart(...)"
      ]
     },
     "execution_count": 37,
     "metadata": {},
     "output_type": "execute_result"
    }
   ],
   "source": [
    "alt.Chart(df3).mark_point().encode(\n",
    "    x = alt.X(field='B', type = \"ordinal\", title = 'Time'),\n",
    "    y = alt.Y(\n",
    "        field = 'C', \n",
    "        type='quantitative', \n",
    "        title = 'Proportion', \n",
    "        # range of y axis\n",
    "        scale = alt.Scale(domain=[0, 1]),\n",
    "    ),\n",
    "    # pop up text when you hover over\n",
    "    tooltip = [\n",
    "        alt.Tooltip('C'), \n",
    "        alt.Tooltip('A')\n",
    "    ],\n",
    "    color= alt.Color(field='A', title = 'Animal', type='nominal'),\n",
    "    shape = 'A'\n",
    ").properties(\n",
    "    title = (\"Proportions of animals at different times of day (????)\")\n",
    ").interactive()"
   ]
  },
  {
   "attachments": {},
   "cell_type": "markdown",
   "id": "edec16ef",
   "metadata": {},
   "source": [
    "### "
   ]
  },
  {
   "attachments": {},
   "cell_type": "markdown",
   "id": "9fe4a19c",
   "metadata": {},
   "source": [
    "### Using `if` `else` statements for flexible webpage design\n",
    "\n",
    "What if you only want code to run under certain conditions? Or you want some lines of code to run under one set of conditions, and other code to run under other conditions? Using `if`, `elif`, and `else` statements, you can write code--and in turn, design webpages--that account for the different circumstances you might want to allow for.\n",
    "\n",
    "`if` and `elif` statements use a syntax of:\n",
    "\n",
    "```python\n",
    "if boolean_condition:\n",
    "    code_executed_if_that_condition_is_True\n",
    "```\n",
    "\n",
    "`else` must come after an `if` or `elif` statement, and does not have a condition (because the implicit condition is the failure of the previous conditions). Python does not *require* an `else` or `elif` statement after an `if` statement; they're just available if you need them.\n",
    "\n",
    "Mixing these statements with streamlit functions can help you make webpages that break less often, and that adapt to the data your user is working with."
   ]
  },
  {
   "cell_type": "code",
   "execution_count": null,
   "id": "43f126e3",
   "metadata": {},
   "outputs": [],
   "source": [
    "df3 = pd.DataFrame({'A': ['Cat', 'Cat', 'Dog', 'Dog', \"Fish\"],\n",
    "                        'B': [1, 2, 3, 4, 6],\n",
    "                        'C': [0.1,0.2,0.3,0.4, 0.6],\n",
    "                        'D' : None})\n",
    "\n",
    "selectcol = st.selectbox(\"Select which column you want to visualize\",\n",
    "             df3.columns)\n",
    "\n",
    "if selectcol == \"A\":\n",
    "    \n",
    "    categories = df3[selectcol].unique()\n",
    "\n",
    "    st.write(f\"Unique values in column A are {selectcol}\")\n",
    "\n",
    "elif selectcol == \"B\":\n",
    "\n",
    "    sumval = df3[selectcol].sum()\n",
    "\n",
    "    st.write(f\"The sum of column B is {sumval}\")\n",
    "\n",
    "elif selectcol == \"C\":\n",
    "    meanval = df3[selectcol].mean()\n",
    "\n",
    "    st.write(f\"The mean of column C is {meanval}\")\n",
    "\n",
    "else:\n",
    "\n",
    "    st.write(\"Column D is empty\")\n"
   ]
  },
  {
   "attachments": {},
   "cell_type": "markdown",
   "id": "df89ad0c",
   "metadata": {},
   "source": [
    "## Section 5: Conclusion\n",
    "\n",
    "Thank you all for attending today's session. If you have any feedback or questions, we can be reached at [rahnuma.tarannum@nyct.com](rahnuma.tarannum@nyct.com) and [dan.powers@mtahq.org](dan.powers@mtahq.org). If you have questions about open data at the MTA, please contact [opendata@mtahq.org](opendata@mtahq.org)."
   ]
  }
 ],
 "metadata": {
  "kernelspec": {
   "display_name": "Python 3 (ipykernel)",
   "language": "python",
   "name": "python3"
  },
  "language_info": {
   "codemirror_mode": {
    "name": "ipython",
    "version": 3
   },
   "file_extension": ".py",
   "mimetype": "text/x-python",
   "name": "python",
   "nbconvert_exporter": "python",
   "pygments_lexer": "ipython3",
   "version": "3.9.12"
  }
 },
 "nbformat": 4,
 "nbformat_minor": 5
}
